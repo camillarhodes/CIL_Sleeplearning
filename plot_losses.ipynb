{
 "cells": [
  {
   "cell_type": "markdown",
   "metadata": {},
   "source": [
    "# Plot training Dice loss and training F1 score of U-Lab-MS components\n"
   ]
  },
  {
   "cell_type": "markdown",
   "metadata": {},
   "source": [
    "## Imports\n"
   ]
  },
  {
   "cell_type": "code",
   "execution_count": null,
   "metadata": {},
   "outputs": [],
   "source": [
    "import matplotlib.pyplot as plt\n",
    "import warnings\n",
    "import cv2\n",
    "import numpy as np\n",
    "from pathlib import Path\n",
    "\n",
    "warnings.filterwarnings(action=\"ignore\")\n"
   ]
  },
  {
   "cell_type": "markdown",
   "metadata": {},
   "source": [
    "## Helper functions\n"
   ]
  },
  {
   "cell_type": "markdown",
   "metadata": {},
   "source": [
    "### Data loading\n"
   ]
  },
  {
   "cell_type": "code",
   "execution_count": null,
   "metadata": {},
   "outputs": [],
   "source": [
    "def get_data_from_file(file_path):\n",
    "    return np.loadtxt(file_path, skiprows=1, usecols=(1, 2), unpack=True, delimiter=\",\")\n"
   ]
  },
  {
   "cell_type": "markdown",
   "metadata": {},
   "source": [
    "### Plotting\n"
   ]
  },
  {
   "cell_type": "code",
   "execution_count": null,
   "metadata": {},
   "outputs": [],
   "source": [
    "def plot(\n",
    "    x_values_list,\n",
    "    y_values_list,\n",
    "    series_names,\n",
    "    series_colors,\n",
    "    x_label,\n",
    "    y_label,\n",
    "    title,\n",
    "    plot_path,\n",
    "    y_max,\n",
    "):\n",
    "    for x_values, y_values, series_name, series_color in zip(\n",
    "        x_values_list, y_values_list, series_names, series_colors\n",
    "    ):\n",
    "        plt.plot(\n",
    "            x_values,\n",
    "            y_values,\n",
    "            label=series_name,\n",
    "            color=series_color,\n",
    "            visible=True,\n",
    "            linewidth=1,\n",
    "        )\n",
    "\n",
    "    plt.grid()\n",
    "\n",
    "    plt.gca().set_xlim(xmin=0, xmax=7200)\n",
    "    plt.gca().set_ylim(ymin=0, ymax=y_max)\n",
    "    plt.xlabel(x_label)\n",
    "    plt.ylabel(y_label)\n",
    "    plt.legend()\n",
    "    plt.title(title)\n",
    "    plt.savefig(plot_path / f\"{title}.svg\", format=\"svg\")\n",
    "    plt.show()\n"
   ]
  },
  {
   "cell_type": "markdown",
   "metadata": {},
   "source": [
    "## Input and output paths\n"
   ]
  },
  {
   "cell_type": "code",
   "execution_count": null,
   "metadata": {},
   "outputs": [],
   "source": [
    "data_dir = Path(\"./model_loss_data/\")\n",
    "plot_path = Path(\"./loss_plots/\")\n",
    "plot_path.mkdir(exist_ok=True)\n"
   ]
  },
  {
   "cell_type": "markdown",
   "metadata": {},
   "source": [
    "## Shared plot parameters\n"
   ]
  },
  {
   "cell_type": "code",
   "execution_count": null,
   "metadata": {},
   "outputs": [],
   "source": [
    "series_names = [\"U-Net256\", \"U-Net512\", \"DeepLabV3+256\", \"DeepLabV3+512\"]\n",
    "series_colors = [\"cyan\", \"blue\", \"orange\", \"red\"]\n"
   ]
  },
  {
   "cell_type": "markdown",
   "metadata": {},
   "source": [
    "## Training Dice loss\n"
   ]
  },
  {
   "cell_type": "markdown",
   "metadata": {},
   "source": [
    "Specifying the Dice loss data paths for each model\n"
   ]
  },
  {
   "cell_type": "code",
   "execution_count": null,
   "metadata": {},
   "outputs": [],
   "source": [
    "unet_256_dice_loss_data_path = (\n",
    "    data_dir / \"unet_256_train_dice_loss.csv\"\n",
    ")  # Training data Dice loss values for the U-Net model\n",
    "unet_512_dice_loss_data_path = (\n",
    "    data_dir / \"unet_512_train_dice_loss.csv\"\n",
    ")  # Training data Dice loss values for the U-Net model trained on 800x800 resolution images\n",
    "dl_256_dice_loss_data_path = (\n",
    "    data_dir / \"dl_256_train_dice_loss.csv\"\n",
    ")  # Training data Dice loss values for the DeepLabV3+ model\n",
    "dl_512_dice_loss_data_path = (\n",
    "    data_dir / \"dl_512_train_dice_loss.csv\"\n",
    ")  # Training data Dice loss values for the DeepLabV3+ model trained on 800x800 resolution images\n"
   ]
  },
  {
   "cell_type": "markdown",
   "metadata": {},
   "source": [
    "Loading the data for each model\n"
   ]
  },
  {
   "cell_type": "code",
   "execution_count": null,
   "metadata": {},
   "outputs": [],
   "source": [
    "unet_256_training_steps, unet_256_dice_loss_data = get_data_from_file(\n",
    "    unet_256_dice_loss_data_path\n",
    ")\n",
    "unet_512_training_steps, unet_512_dice_loss_data = get_data_from_file(\n",
    "    unet_512_dice_loss_data_path\n",
    ")\n",
    "dl_256_training_steps, dl_256_dice_loss_data = get_data_from_file(\n",
    "    dl_256_dice_loss_data_path\n",
    ")\n",
    "dl_512_training_steps, dl_512_dice_loss_data = get_data_from_file(\n",
    "    dl_512_dice_loss_data_path\n",
    ")\n"
   ]
  },
  {
   "cell_type": "markdown",
   "metadata": {},
   "source": [
    "Generating the plot\n"
   ]
  },
  {
   "cell_type": "code",
   "execution_count": null,
   "metadata": {},
   "outputs": [],
   "source": [
    "x_data = [\n",
    "    unet_256_training_steps,\n",
    "    unet_512_training_steps,\n",
    "    dl_256_training_steps,\n",
    "    dl_512_training_steps,\n",
    "]\n",
    "y_data = [\n",
    "    unet_256_dice_loss_data,\n",
    "    unet_512_dice_loss_data,\n",
    "    dl_256_dice_loss_data,\n",
    "    dl_512_dice_loss_data,\n",
    "]\n",
    "x_label = \"Steps\"\n",
    "y_label = \"Dice loss value\"\n",
    "title = \"Dice loss value during training\"\n",
    "plot(\n",
    "    x_data,\n",
    "    y_data,\n",
    "    series_names,\n",
    "    series_colors,\n",
    "    x_label,\n",
    "    y_label,\n",
    "    title,\n",
    "    plot_path,\n",
    "    y_max=0.5,\n",
    ")\n"
   ]
  },
  {
   "cell_type": "markdown",
   "metadata": {},
   "source": [
    "## Training F1 score\n"
   ]
  },
  {
   "cell_type": "markdown",
   "metadata": {},
   "source": [
    "Specifying the F1 score data paths for each model\n"
   ]
  },
  {
   "cell_type": "code",
   "execution_count": null,
   "metadata": {},
   "outputs": [],
   "source": [
    "unet_256_f1_score_data_path = (\n",
    "    data_dir / \"unet_256_train_f1_score.csv\"\n",
    ")  # Training data F1 score values for the U-Net model\n",
    "unet_512_f1_score_data_path = (\n",
    "    data_dir / \"unet_512_train_f1_score.csv\"\n",
    ")  # Training data F1 score values for the U-Net model trained on 800x800 resolution images\n",
    "dl_256_f1_score_data_path = (\n",
    "    data_dir / \"dl_256_train_f1_score.csv\"\n",
    ")  # Training data F1 score values for the DeepLabV3+ model\n",
    "dl_512_f1_score_data_path = (\n",
    "    data_dir / \"dl_512_train_f1_score.csv\"\n",
    ")  # Training data F1 score values for the DeepLabV3+ model trained on 800x800 resolution images\n"
   ]
  },
  {
   "cell_type": "markdown",
   "metadata": {},
   "source": [
    "Loading the data for each model\n"
   ]
  },
  {
   "cell_type": "code",
   "execution_count": null,
   "metadata": {},
   "outputs": [],
   "source": [
    "unet_256_training_steps, unet_256_f1_score_data = get_data_from_file(\n",
    "    unet_256_f1_score_data_path\n",
    ")\n",
    "unet_512_training_steps, unet_512_f1_score_data = get_data_from_file(\n",
    "    unet_512_f1_score_data_path\n",
    ")\n",
    "dl_256_training_steps, dl_256_f1_score_data = get_data_from_file(\n",
    "    dl_256_f1_score_data_path\n",
    ")\n",
    "dl_512_training_steps, dl_512_f1_score_data = get_data_from_file(\n",
    "    dl_512_f1_score_data_path\n",
    ")\n"
   ]
  },
  {
   "cell_type": "markdown",
   "metadata": {},
   "source": [
    "Generating the plot\n"
   ]
  },
  {
   "cell_type": "code",
   "execution_count": null,
   "metadata": {},
   "outputs": [],
   "source": [
    "x_data = [\n",
    "    unet_256_training_steps,\n",
    "    unet_512_training_steps,\n",
    "    dl_256_training_steps,\n",
    "    dl_512_training_steps,\n",
    "]\n",
    "y_data = [\n",
    "    unet_256_f1_score_data,\n",
    "    unet_512_f1_score_data,\n",
    "    dl_256_f1_score_data,\n",
    "    dl_512_f1_score_data,\n",
    "]\n",
    "x_label = \"Steps\"\n",
    "y_label = \"F1 score value\"\n",
    "title = \"F1 score value during training\"\n",
    "plot(\n",
    "    x_data,\n",
    "    y_data,\n",
    "    series_names,\n",
    "    series_colors,\n",
    "    x_label,\n",
    "    y_label,\n",
    "    title,\n",
    "    plot_path,\n",
    "    y_max=1,\n",
    ")\n"
   ]
  }
 ],
 "metadata": {
  "kernelspec": {
   "display_name": "Python 3.9.7 ('CIL_Sleeplearning')",
   "language": "python",
   "name": "python3"
  },
  "language_info": {
   "codemirror_mode": {
    "name": "ipython",
    "version": 3
   },
   "file_extension": ".py",
   "mimetype": "text/x-python",
   "name": "python",
   "nbconvert_exporter": "python",
   "pygments_lexer": "ipython3",
   "version": "3.9.7"
  },
  "orig_nbformat": 4,
  "vscode": {
   "interpreter": {
    "hash": "6c86dc6fb6756744c52c6c4c120a0f147cc85e4ec7798bcdbc0540d80120a0a8"
   }
  }
 },
 "nbformat": 4,
 "nbformat_minor": 2
}
