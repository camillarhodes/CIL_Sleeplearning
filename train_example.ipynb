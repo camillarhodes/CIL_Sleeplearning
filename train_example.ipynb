{
 "cells": [
  {
   "cell_type": "code",
   "execution_count": 488,
   "id": "d4fe9245-3185-42fa-bf0e-a4974aaf3d95",
   "metadata": {},
   "outputs": [
    {
     "name": "stdout",
     "output_type": "stream",
     "text": [
      "[NbConvertApp] Converting notebook train_example.ipynb to script\n",
      "[NbConvertApp] Writing 12938 bytes to train_example.py\n"
     ]
    }
   ],
   "source": [
    "!jupyter nbconvert --to script train_example.ipynb"
   ]
  },
  {
   "cell_type": "code",
   "execution_count": 1,
   "id": "84de0b62-bdf7-4377-ba76-027d25da680b",
   "metadata": {},
   "outputs": [],
   "source": [
    "import ssl\n",
    "ssl._create_default_https_context = ssl._create_unverified_context"
   ]
  },
  {
   "cell_type": "code",
   "execution_count": 2,
   "id": "4bca0c14",
   "metadata": {},
   "outputs": [],
   "source": [
    "from config import args\n",
    "from pytorch_lightning import Trainer, loggers\n",
    "from models import SegmentationModel\n",
    "from augmentations import get_transforms\n",
    "from datasets import get_train_val_dataloaders\n",
    "import warnings \n",
    "warnings.filterwarnings(action= 'ignore')"
   ]
  },
  {
   "cell_type": "markdown",
   "id": "98315c61",
   "metadata": {},
   "source": [
    "# Get augmentation"
   ]
  },
  {
   "cell_type": "code",
   "execution_count": 3,
   "id": "42191af6",
   "metadata": {},
   "outputs": [],
   "source": [
    "transform_train=get_transforms('rcf')\n",
    "transform_train_512=get_transforms('rcf512')\n",
    "transform_val=get_transforms('center_c')\n",
    "transform_val_512=get_transforms('center_c512')\n",
    "\n",
    "\n",
    "# transform_train_sm=get_transforms('rcr128')\n",
    "# transform_val_sm=get_transforms('center_cr128')"
   ]
  },
  {
   "cell_type": "markdown",
   "id": "b6fa8fac",
   "metadata": {},
   "source": [
    "# Get data loaders"
   ]
  },
  {
   "cell_type": "code",
   "execution_count": 486,
   "id": "5f9737d4-642d-4506-9228-3963a28dce52",
   "metadata": {},
   "outputs": [],
   "source": [
    "train_dataloader, val_dataloader = get_train_val_dataloaders(\n",
    "    transform_train=transform_train, transform_val=transform_val,\n",
    "    include_massachusetts=False,\n",
    "    num_workers=8,\n",
    "    batch_size=4,\n",
    ")\n",
    "\n",
    "train_dataloader_512, val_dataloader_512 = get_train_val_dataloaders(\n",
    "    transform_train=transform_train_512, transform_val=transform_val_512,\n",
    "    include_massachusetts=False,\n",
    "    num_workers=8,\n",
    "    batch_size=4,\n",
    "    large=True\n",
    ")\n",
    "\n",
    "train_dataloader_full, _ = get_train_val_dataloaders(\n",
    "    split_percent=1.00,\n",
    "    transform_train=transform_train, transform_val=None,\n",
    "    include_massachusetts=False,\n",
    "    num_workers=8,\n",
    "    batch_size=4,\n",
    ")\n",
    "\n",
    "train_dataloader_full_512, _ = get_train_val_dataloaders(\n",
    "    split_percent=1.00,\n",
    "    transform_train=transform_train_512, transform_val=None,\n",
    "    include_massachusetts=False,\n",
    "    num_workers=8,\n",
    "    batch_size=4,\n",
    "    large=True\n",
    ")"
   ]
  },
  {
   "cell_type": "markdown",
   "id": "6fcafd53",
   "metadata": {},
   "source": [
    "# Get model"
   ]
  },
  {
   "cell_type": "code",
   "execution_count": 271,
   "id": "eb9f5ded-b135-4ff2-a69a-bef4ddc5044a",
   "metadata": {},
   "outputs": [],
   "source": [
    "# model_256 = SegmentationModel.load_from_checkpoint('./logs/lightning_logs/version_175/checkpoints/epoch=179-step=1260.ckpt',seg_model='deeplabv3plus')"
   ]
  },
  {
   "cell_type": "code",
   "execution_count": 162,
   "id": "b73306ab-723b-4ac5-a585-c7c19cf133d7",
   "metadata": {},
   "outputs": [],
   "source": [
    "# model_512 = SegmentationModel.load_from_checkpoint('./logs/lightning_logs/version_174/checkpoints/epoch=176-step=1239.ckpt', seg_model='deeplabv3plus')"
   ]
  },
  {
   "cell_type": "code",
   "execution_count": 377,
   "id": "298ac5c3-b425-409d-b8f2-2d7b639e264e",
   "metadata": {},
   "outputs": [],
   "source": [
    "# model_256_unet = SegmentationModel.load_from_checkpoint('./logs/lightning_logs/version_176/checkpoints/epoch=179-step=1260.ckpt',seg_model='unet')"
   ]
  },
  {
   "cell_type": "code",
   "execution_count": 479,
   "id": "c2280e8b-8870-43f1-ad50-6da29ac09e10",
   "metadata": {},
   "outputs": [],
   "source": [
    "# model_512_unet = SegmentationModel.load_from_checkpoint('./logs/lightning_logs/version_177/checkpoints/epoch=187-step=1316.ckpt', seg_model='unet')"
   ]
  },
  {
   "cell_type": "code",
   "execution_count": 4,
   "id": "9e3a8da1-a395-4d53-bd4b-8866e3334040",
   "metadata": {},
   "outputs": [],
   "source": [
    "model_256_unet_full = SegmentationModel.load_from_checkpoint('./logs/unet_256_full/version_0/checkpoints/epoch=179-step=1620.ckpt', seg_model='unet')"
   ]
  },
  {
   "cell_type": "code",
   "execution_count": 29,
   "id": "a2719c94-d33b-4be4-a9cc-c1ab38f9e5e1",
   "metadata": {},
   "outputs": [],
   "source": [
    "model_512_unet_full = SegmentationModel.load_from_checkpoint('./logs/unet_512_full/version_0/checkpoints/epoch=179-step=1620.ckpt', seg_model='unet')"
   ]
  },
  {
   "cell_type": "markdown",
   "id": "2480798e",
   "metadata": {},
   "source": [
    "# Train model"
   ]
  },
  {
   "cell_type": "code",
   "execution_count": null,
   "id": "665d2384-3f9c-4f80-8872-39640f01e8b5",
   "metadata": {},
   "outputs": [],
   "source": [
    "def get_trainer(name):\n",
    "    tb_logger = loggers.TensorBoardLogger(save_dir=\"logs/\", name=name)\n",
    "    trainer = Trainer(gpus=[0,1,2,3],\n",
    "                  max_epochs=180, \n",
    "                  logger=tb_logger,\n",
    "                  accelerator='ddp',\n",
    "                  resume_from_checkpoint=args.checkpoint_path,\n",
    "                  log_every_n_steps=10\n",
    "    )\n",
    "    return trainer"
   ]
  },
  {
   "cell_type": "code",
   "execution_count": null,
   "id": "e42827ba-3962-45e3-a0b5-63b78f49baa3",
   "metadata": {},
   "outputs": [],
   "source": [
    "unet_256 = SegmentationModel('unet')    \n",
    "unet_512 = SegmentationModel('unet')    \n",
    "dlv3_256 = SegmentationModel('deeplabv3plus')    \n",
    "dlv3_512 = SegmentationModel('deeplabv3plus')    \n",
    "\n",
    "\n",
    "trainer = get_trainer('unet_256_full')\n",
    "trainer.fit(unet_256, train_dataloader_full)\n",
    "trainer = get_trainer('unet_512_full')\n",
    "trainer.fit(unet_512, train_dataloader_full_512)\n",
    "trainer = get_trainer('dlv3_256_full')\n",
    "trainer.fit(dlv3_256, train_dataloader_full)\n",
    "trainer = get_trainer('dlv3_512_full')\n",
    "trainer.fit(dlv3_512, train_dataloader_full_512)"
   ]
  },
  {
   "cell_type": "code",
   "execution_count": 30,
   "id": "94dd6845",
   "metadata": {},
   "outputs": [
    {
     "name": "stderr",
     "output_type": "stream",
     "text": [
      "GPU available: True, used: True\n",
      "TPU available: False, using: 0 TPU cores\n",
      "IPU available: False, using: 0 IPUs\n",
      "HPU available: False, using: 0 HPUs\n",
      "LOCAL_RANK: 0 - CUDA_VISIBLE_DEVICES: [0,1,2,3]\n",
      "\n",
      "  | Name  | Type | Params\n",
      "-------------------------------\n",
      "0 | model | Unet | 29.1 M\n",
      "-------------------------------\n",
      "29.1 M    Trainable params\n",
      "0         Non-trainable params\n",
      "29.1 M    Total params\n",
      "116.232   Total estimated model params size (MB)\n"
     ]
    },
    {
     "data": {
      "application/vnd.jupyter.widget-view+json": {
       "model_id": "",
       "version_major": 2,
       "version_minor": 0
      },
      "text/plain": [
       "A Jupyter Widget"
      ]
     },
     "metadata": {},
     "output_type": "display_data"
    },
    {
     "data": {
      "application/vnd.jupyter.widget-view+json": {
       "model_id": "df19833523194cb68462c30d3a303645",
       "version_major": 2,
       "version_minor": 0
      },
      "text/plain": [
       "A Jupyter Widget"
      ]
     },
     "metadata": {},
     "output_type": "display_data"
    },
    {
     "name": "stderr",
     "output_type": "stream",
     "text": [
      "Traceback (most recent call last):\n",
      "  File \"/root/anaconda3/envs/CIL_Sleeplearning/lib/python3.9/multiprocessing/queues.py\", line 241, in _feed\n",
      "    close()\n",
      "  File \"/root/anaconda3/envs/CIL_Sleeplearning/lib/python3.9/multiprocessing/connection.py\", line 182, in close\n",
      "    self._close()\n",
      "  File \"/root/anaconda3/envs/CIL_Sleeplearning/lib/python3.9/multiprocessing/connection.py\", line 366, in _close\n",
      "    _close(self._handle)\n",
      "OSError: [Errno 9] Bad file descriptor\n"
     ]
    },
    {
     "data": {
      "application/vnd.jupyter.widget-view+json": {
       "model_id": "",
       "version_major": 2,
       "version_minor": 0
      },
      "text/plain": [
       "A Jupyter Widget"
      ]
     },
     "metadata": {},
     "output_type": "display_data"
    },
    {
     "name": "stderr",
     "output_type": "stream",
     "text": [
      "Exception ignored in: <function _releaseLock at 0x7f4a26429700>\n",
      "Traceback (most recent call last):\n",
      "  File \"/root/anaconda3/envs/CIL_Sleeplearning/lib/python3.9/logging/__init__.py\", line 227, in _releaseLock\n",
      "    def _releaseLock():\n",
      "KeyboardInterrupt: \n"
     ]
    }
   ],
   "source": [
    "# # model=model.train()\n",
    "# args.gpus = [0,1,2,3] # Remove this line if you actually have gpus\n",
    "# # args.gpus = [0] # Remove this line if you actually have gpus\n",
    "\n",
    "\n",
    "# trainer.fit(model_256, train_dataloader, val_dataloader)"
   ]
  },
  {
   "cell_type": "markdown",
   "id": "14b773ac",
   "metadata": {},
   "source": [
    "# Visualize"
   ]
  },
  {
   "cell_type": "code",
   "execution_count": 309,
   "id": "b83f8566-adaf-4537-8b39-222dbc24c55c",
   "metadata": {},
   "outputs": [],
   "source": [
    "import cv2\n",
    "import numpy as np"
   ]
  },
  {
   "cell_type": "code",
   "execution_count": 483,
   "id": "00bf508b-2e93-486e-b1c5-b06b7b8ab937",
   "metadata": {},
   "outputs": [
    {
     "data": {
      "image/png": "[encoded data removed]",
      "text/plain": [
       "<Figure size 1296x1296 with 7 Axes>"
      ]
     },
     "metadata": {
      "needs_background": "light"
     },
     "output_type": "display_data"
    }
   ],
   "source": [
    "import matplotlib.pyplot as plt\n",
    "import torch\n",
    "idx=11\n",
    "img_256, mask_256 = val_dataloader.dataset[idx]\n",
    "img_512, mask_512 = val_dataloader_512.dataset[idx]\n",
    "# fused = model.model.get_fused_input(torch.Tensor(img[None,:]))\n",
    "pred_mask_512=model_512.predict(torch.Tensor(img_512[None,:]).to(model_512.device)).detach().cpu().numpy()\n",
    "pred_mask_256=model_256.predict(torch.Tensor(img_256[None,:]).to(model_256.device)).detach().cpu().numpy()\n",
    "pred_mask_unet_256=model_256_unet.predict(torch.Tensor(img_256[None,:]).to(model_256.device)).detach().cpu().numpy()\n",
    "pred_mask_unet_512=model_512_unet.predict(torch.Tensor(img_512[None,:]).to(model_512_unet.device)).detach().cpu().numpy()\n",
    "\n",
    "resized_pred_mask = cv2.resize(pred_mask_512.transpose(1,2,0), (256,256), interpolation=cv2.INTER_CUBIC)\n",
    "resized_pred_mask_unet = cv2.resize(pred_mask_unet_512.transpose(1,2,0), (256,256), interpolation=cv2.INTER_CUBIC)\n",
    "ensembled = np.rint(((pred_mask_256 + resized_pred_mask + pred_mask_unet_256 + resized_pred_mask_unet)/4))\n",
    "f, axarr = plt.subplots(1,7)\n",
    "f.set_figheight(18)\n",
    "f.set_figwidth(18)\n",
    "axarr[0].axis('off')\n",
    "axarr[1].axis('off')\n",
    "axarr[2].axis('off')\n",
    "axarr[3].axis('off')\n",
    "axarr[4].axis('off')\n",
    "axarr[5].axis('off')\n",
    "axarr[6].axis('off')\n",
    "axarr[0].title.set_text('Satellite')\n",
    "axarr[1].title.set_text('GT Mask')\n",
    "axarr[2].title.set_text('Ensembled')\n",
    "axarr[3].title.set_text('DeepLabV3Plus (512)')\n",
    "axarr[4].title.set_text('DeepLabV3Plus (256)')\n",
    "axarr[5].title.set_text('Unet (512)')\n",
    "axarr[6].title.set_text('Unet (256)')\n",
    "_ = axarr[0].imshow(img_256.transpose(1,2,0))\n",
    "_ = axarr[1].imshow(mask_256.transpose(1,2,0), cmap='gray', vmin=0, vmax=1)\n",
    "_ = axarr[2].imshow(ensembled.transpose(1,2,0), cmap='gray', vmin=0, vmax=1)\n",
    "_ = axarr[3].imshow(pred_mask_512.transpose(1,2,0), cmap='gray', vmin=0, vmax=1)\n",
    "_ = axarr[4].imshow(pred_mask_256.transpose(1,2,0), cmap='gray', vmin=0, vmax=1)\n",
    "_ = axarr[5].imshow(pred_mask_unet_512.transpose(1,2,0), cmap='gray', vmin=0, vmax=1)\n",
    "_ = axarr[6].imshow(pred_mask_unet_256.transpose(1,2,0), cmap='gray', vmin=0, vmax=1)\n"
   ]
  },
  {
   "cell_type": "code",
   "execution_count": 7,
   "id": "fc85beb4-7238-4fea-9d8a-2dfd6b673c9f",
   "metadata": {},
   "outputs": [],
   "source": [
    "# pred_mask = pred[:,:2,:,:].argmax(dim=1).numpy()\n",
    "# pred_canny = pred[:,2:4,:,:].argmax(dim=1).numpy()"
   ]
  },
  {
   "cell_type": "code",
   "execution_count": 8,
   "id": "5ee57265-72d0-447a-9f86-b7d504c4aafd",
   "metadata": {},
   "outputs": [],
   "source": [
    "# pred[:,2:4,:,:].shape"
   ]
  },
  {
   "cell_type": "code",
   "execution_count": 9,
   "id": "6ca32e7d-98ef-4669-8632-5dc4b7e6aa01",
   "metadata": {},
   "outputs": [],
   "source": [
    "# plt.imshow(pred_mask.transpose(1,2,0))"
   ]
  },
  {
   "cell_type": "code",
   "execution_count": 10,
   "id": "d4c8b64b-b55b-447e-9010-f762dfef2766",
   "metadata": {},
   "outputs": [],
   "source": [
    "# plt.imshow(pred_canny.transpose(1,2,0))"
   ]
  },
  {
   "cell_type": "code",
   "execution_count": 12,
   "id": "08860bf7-5ff9-4d0c-910d-a571215b0dfb",
   "metadata": {},
   "outputs": [],
   "source": [
    "# mask=(torch.Tensor(mask[None,:]).to(model.device))"
   ]
  },
  {
   "cell_type": "code",
   "execution_count": 11,
   "id": "2d30540a-0cf4-4d0f-a8b4-2a8874fa6fff",
   "metadata": {},
   "outputs": [],
   "source": [
    "# # model.discriminator(softmaxed[None,:].to(model.device))\n",
    "# model.discriminator(mask.to(model.device))"
   ]
  },
  {
   "cell_type": "code",
   "execution_count": null,
   "id": "eafcf894-217f-416e-a7f9-e229680c4fb9",
   "metadata": {},
   "outputs": [],
   "source": [
    "# import matplotlib.pyplot as plt\n",
    "# import torch\n",
    "\n",
    "# img, mask, canny = val_dataloader.dataset[4]\n",
    "# # fused = model.model.get_fused_input(torch.Tensor(img[None,:]))\n",
    "# pred_mask=model.predict(torch.Tensor(img[None,:]).to(model.device), torch.Tensor(canny[None,:]).to(model.device)).detach().cpu().numpy()\n",
    "# f, axarr = plt.subplots(1,4)\n",
    "# _ = axarr[0].imshow(img.transpose(1,2,0))\n",
    "# _ = axarr[1].imshow(mask.transpose(1,2,0))\n",
    "# _ = axarr[2].imshow(pred_mask.transpose(1,2,0))\n",
    "# _ = axarr[3].imshow(canny.transpose(1,2,0))\n",
    "# # _ = axarr[3].imshow(fused[0,3:,...].numpy().transpose(1,2,0))"
   ]
  },
  {
   "cell_type": "code",
   "execution_count": null,
   "id": "e89c5405-1d85-4c08-a76d-491808b8e9e3",
   "metadata": {},
   "outputs": [],
   "source": [
    "# torch.Tensor(canny).shape"
   ]
  },
  {
   "cell_type": "code",
   "execution_count": null,
   "id": "fb89c900-52bd-4898-a3fc-43abf4483398",
   "metadata": {},
   "outputs": [],
   "source": [
    "# # model.model.edgemap_encoder(edgemap)\n",
    "# edgemap = model.hed_model(x)\n",
    "# edgemap_features = model.model.edgemap_encoder(edgemap)\n",
    "        "
   ]
  },
  {
   "cell_type": "code",
   "execution_count": 5,
   "id": "70339a9b-b14e-4fc5-9a45-e264fe01704f",
   "metadata": {},
   "outputs": [],
   "source": [
    "import cv2\n",
    "import numpy as np\n",
    "from pathlib import Path"
   ]
  },
  {
   "cell_type": "code",
   "execution_count": 6,
   "id": "26a44eb2-931c-4283-9543-7bf5fc0d6cb2",
   "metadata": {},
   "outputs": [],
   "source": []
  },
  {
   "cell_type": "code",
   "execution_count": 30,
   "id": "5edeab98-e7e3-4841-b56e-9a87609c7e4f",
   "metadata": {},
   "outputs": [],
   "source": [
    "test_images_800_dir = Path('./data/test/images_800/')"
   ]
  },
  {
   "cell_type": "code",
   "execution_count": 7,
   "id": "c861a6c8-c91c-40c1-8d4f-bae61839933b",
   "metadata": {},
   "outputs": [],
   "source": [
    "test_paths = list(test_images_dir.glob('*.png'))"
   ]
  },
  {
   "cell_type": "code",
   "execution_count": 31,
   "id": "325a2564-ea96-49d1-947f-03a50a9437e5",
   "metadata": {},
   "outputs": [],
   "source": [
    "test_800_paths = list(test_images_800_dir.glob('*.png'))"
   ]
  },
  {
   "cell_type": "code",
   "execution_count": 19,
   "id": "53fb7282-6dd7-43da-8876-39c7d6d336c9",
   "metadata": {},
   "outputs": [],
   "source": [
    "img=cv2.imread(str(test_paths[0]))[None,:].transpose(0,3,1,2) / 255"
   ]
  },
  {
   "cell_type": "code",
   "execution_count": 32,
   "id": "024ba35f-fbb7-409f-89aa-9dccb2be6eb7",
   "metadata": {},
   "outputs": [],
   "source": [
    "img_800=cv2.imread(str(test_800_paths[0]))[None,:].transpose(0,3,1,2) / 255"
   ]
  },
  {
   "cell_type": "code",
   "execution_count": 34,
   "id": "64c526ff-75f5-4632-8e83-b06cc1243822",
   "metadata": {},
   "outputs": [],
   "source": [
    "pred_mask = model_256_unet_full.predict_full_mask(img)\n",
    "pred_mask_800 = model_512_unet_full.predict_full_mask(img_800)"
   ]
  },
  {
   "cell_type": "code",
   "execution_count": 35,
   "id": "c7e02ba8-ce46-4546-be42-ef86a85933fb",
   "metadata": {},
   "outputs": [],
   "source": [
    "pred_mask = pred_mask.numpy()\n",
    "pred_mask_800 = pred_mask_800.numpy()"
   ]
  },
  {
   "cell_type": "code",
   "execution_count": 36,
   "id": "0fb6305f-f6b8-40dd-9d17-69fc6d312536",
   "metadata": {},
   "outputs": [
    {
     "data": {
      "text/plain": [
       "array([[[[6.24306142e-01, 6.95586681e-01, 8.57277870e-01, ...,\n",
       "          4.47836472e-03, 1.10722855e-02, 2.92905159e-02],\n",
       "         [7.04096675e-01, 9.34427619e-01, 9.62440014e-01, ...,\n",
       "          1.01345091e-03, 9.64540697e-04, 6.96959114e-03],\n",
       "         [8.45739007e-01, 9.63384926e-01, 9.82410669e-01, ...,\n",
       "          4.90399252e-04, 7.00685370e-04, 3.61831440e-03],\n",
       "         ...,\n",
       "         [4.81199240e-03, 5.07988734e-04, 5.53922611e-04, ...,\n",
       "          5.92297467e-04, 1.06482371e-03, 5.04023442e-03],\n",
       "         [2.72181444e-02, 1.70620892e-03, 9.97306313e-04, ...,\n",
       "          8.88635637e-04, 1.00377388e-03, 2.28080573e-03],\n",
       "         [5.51650152e-02, 8.42961296e-03, 8.12105089e-03, ...,\n",
       "          1.13937566e-02, 1.85531005e-02, 4.00132574e-02]]]],\n",
       "      dtype=float32)"
      ]
     },
     "execution_count": 36,
     "metadata": {},
     "output_type": "execute_result"
    }
   ],
   "source": [
    "pred_mask_800"
   ]
  },
  {
   "cell_type": "code",
   "execution_count": 37,
   "id": "661a3b41-8e05-4a61-add0-5207ada6eb98",
   "metadata": {},
   "outputs": [],
   "source": [
    "import matplotlib.pyplot as plt"
   ]
  },
  {
   "cell_type": "code",
   "execution_count": 38,
   "id": "0595ddf7-aa2b-4557-a86b-d4a0b2621922",
   "metadata": {},
   "outputs": [],
   "source": [
    "pred_mask = pred_mask[0].transpose(1,2,0)\n",
    "pred_mask_800 = pred_mask_800[0].transpose(1,2,0)\n"
   ]
  },
  {
   "cell_type": "code",
   "execution_count": 41,
   "id": "2c95108a-60f6-4b3a-b90c-a6d19fef88f0",
   "metadata": {},
   "outputs": [
    {
     "data": {
      "text/plain": [
       "<matplotlib.image.AxesImage at 0x7f7d04a5cfd0>"
      ]
     },
     "execution_count": 41,
     "metadata": {},
     "output_type": "execute_result"
    },
    {
     "data": {
      "image/png": "[encoded data removed]",
      "text/plain": [
       "<Figure size 432x288 with 1 Axes>"
      ]
     },
     "metadata": {
      "needs_background": "light"
     },
     "output_type": "display_data"
    }
   ],
   "source": [
    "plt.imshow(pred_mask_800)"
   ]
  },
  {
   "cell_type": "code",
   "execution_count": 50,
   "id": "086ae355-689e-4508-a83f-0d3b78704499",
   "metadata": {},
   "outputs": [
    {
     "name": "stdout",
     "output_type": "stream",
     "text": [
      "0/144\n",
      "1/144\n",
      "2/144\n",
      "3/144\n",
      "4/144\n",
      "5/144\n",
      "6/144\n",
      "7/144\n",
      "8/144\n",
      "9/144\n",
      "10/144\n",
      "11/144\n",
      "12/144\n",
      "13/144\n",
      "14/144\n",
      "15/144\n",
      "16/144\n",
      "17/144\n",
      "18/144\n",
      "19/144\n",
      "20/144\n",
      "21/144\n",
      "22/144\n",
      "23/144\n",
      "24/144\n",
      "25/144\n",
      "26/144\n",
      "27/144\n",
      "28/144\n",
      "29/144\n",
      "30/144\n",
      "31/144\n",
      "32/144\n",
      "33/144\n",
      "34/144\n",
      "35/144\n",
      "36/144\n",
      "37/144\n",
      "38/144\n",
      "39/144\n",
      "40/144\n",
      "41/144\n",
      "42/144\n",
      "43/144\n",
      "44/144\n",
      "45/144\n",
      "46/144\n",
      "47/144\n",
      "48/144\n",
      "49/144\n",
      "50/144\n",
      "51/144\n",
      "52/144\n",
      "53/144\n",
      "54/144\n",
      "55/144\n",
      "56/144\n",
      "57/144\n",
      "58/144\n",
      "59/144\n",
      "60/144\n",
      "61/144\n",
      "62/144\n",
      "63/144\n",
      "64/144\n",
      "65/144\n",
      "66/144\n",
      "67/144\n",
      "68/144\n",
      "69/144\n",
      "70/144\n",
      "71/144\n",
      "72/144\n",
      "73/144\n",
      "74/144\n",
      "75/144\n",
      "76/144\n",
      "77/144\n",
      "78/144\n",
      "79/144\n",
      "80/144\n",
      "81/144\n",
      "82/144\n",
      "83/144\n",
      "84/144\n",
      "85/144\n",
      "86/144\n",
      "87/144\n",
      "88/144\n",
      "89/144\n",
      "90/144\n",
      "91/144\n",
      "92/144\n",
      "93/144\n",
      "94/144\n",
      "95/144\n",
      "96/144\n",
      "97/144\n",
      "98/144\n",
      "99/144\n",
      "100/144\n",
      "101/144\n",
      "102/144\n",
      "103/144\n",
      "104/144\n",
      "105/144\n",
      "106/144\n",
      "107/144\n",
      "108/144\n",
      "109/144\n",
      "110/144\n",
      "111/144\n",
      "112/144\n",
      "113/144\n",
      "114/144\n",
      "115/144\n",
      "116/144\n",
      "117/144\n",
      "118/144\n",
      "119/144\n",
      "120/144\n",
      "121/144\n",
      "122/144\n",
      "123/144\n",
      "124/144\n",
      "125/144\n",
      "126/144\n",
      "127/144\n",
      "128/144\n",
      "129/144\n",
      "130/144\n",
      "131/144\n",
      "132/144\n",
      "133/144\n",
      "134/144\n",
      "135/144\n",
      "136/144\n",
      "137/144\n",
      "138/144\n",
      "139/144\n",
      "140/144\n",
      "141/144\n",
      "142/144\n",
      "143/144\n"
     ]
    }
   ],
   "source": [
    "idx = 0\n",
    "predictions_dir = Path('./data/test/predictions_unet_256/')\n",
    "test_images_dir = Path('./data/test/images/')\n",
    "predictions_dir.mkdir(exist_ok=True)\n",
    "\n",
    "for img_path in test_paths:\n",
    "    print(f'{idx}/{len(test_paths)}')\n",
    "    idx += 1\n",
    "    img = cv2.imread(str(img_path))\n",
    "    img = (img.transpose(2,0,1) / 255).astype(np.float32)[None,:]\n",
    "    pred_mask = model_256_unet_full.predict_full_mask(img).cpu().numpy()[0]\n",
    "    cv2.imwrite(str(predictions_dir / img_path.stem) + '.png',255*pred_mask.transpose(1,2,0))"
   ]
  },
  {
   "cell_type": "code",
   "execution_count": 51,
   "id": "9df9dd33-ecd2-443d-8a13-26d8ea3009fe",
   "metadata": {},
   "outputs": [
    {
     "data": {
      "text/plain": [
       "(1, 400, 400)"
      ]
     },
     "execution_count": 51,
     "metadata": {},
     "output_type": "execute_result"
    }
   ],
   "source": [
    "pred_mask.shape"
   ]
  },
  {
   "cell_type": "code",
   "execution_count": 166,
   "id": "6f45a375-4df0-4474-be45-9933d70f972c",
   "metadata": {},
   "outputs": [],
   "source": [
    "# import torch\n",
    "# import torch.nn\n",
    "# import torch.nn.functional as F\n",
    "# from torch.utils.data import DataLoader\n",
    "\n",
    "# import pytorch_lightning as pl\n",
    "\n",
    "# from torch_enhance.datasets import BSDS300, Set14, Set5\n",
    "# from torch_enhance.models import SRCNN, SRResNet, VDSR, EDSR\n",
    "# from torch_enhance import metrics\n",
    "\n",
    "\n",
    "# class Module(pl.LightningModule):\n",
    "\n",
    "#     def __init__(self, model):\n",
    "#         super().__init__()\n",
    "#         self.model = model\n",
    "\n",
    "#     def forward(self, x):\n",
    "#         return self.model(x)\n",
    "\n",
    "#     def configure_optimizers(self):\n",
    "#         return torch.optim.Adam(self.parameters(), lr=1e-3)\n",
    "\n",
    "#     def training_step(self, batch, batch_idx):\n",
    "#         lr, hr = batch\n",
    "#         sr = self(lr)\n",
    "#         loss = F.mse_loss(sr, hr, reduction=\"mean\")\n",
    "        \n",
    "#         # metrics\n",
    "#         mae = metrics.mae(sr, hr)\n",
    "#         psnr = metrics.psnr(sr, hr)\n",
    "\n",
    "#         # Logs\n",
    "#         self.log(\"train_loss\", loss)\n",
    "#         self.log(\"train_mae\", mae)\n",
    "#         self.log(\"train_psnr\", psnr)\n",
    "\n",
    "#         return loss\n",
    "\n",
    "#     def validation_step(self, batch, batch_idx):\n",
    "#         lr, hr = batch\n",
    "#         sr = self(lr)\n",
    "#         loss = F.mse_loss(sr, hr, reduction=\"mean\")\n",
    "        \n",
    "#         # metrics\n",
    "#         mae = metrics.mae(sr, hr)\n",
    "#         psnr = metrics.psnr(sr, hr)\n",
    "\n",
    "#         # Logs\n",
    "#         self.log(\"val_loss\", loss)\n",
    "#         self.log(\"val_mae\", mae)\n",
    "#         self.log(\"val_psnr\", psnr)\n",
    "\n",
    "#         return loss\n",
    "\n",
    "#     def test_step(self, batch, batch_idx):\n",
    "#         lr, hr = batch\n",
    "#         sr = self(lr)\n",
    "#         loss = F.mse_loss(sr, hr, reduction=\"mean\")\n",
    "        \n",
    "#         # metrics\n",
    "#         mae = metrics.mae(sr, hr)\n",
    "#         psnr = metrics.psnr(sr, hr)\n",
    "\n",
    "#         # Logs\n",
    "#         self.log(\"test_loss\", loss)\n",
    "#         self.log(\"test_mae\", mae)\n",
    "#         self.log(\"test_psnr\", psnr)\n",
    "\n",
    "#         return loss\n",
    "\n",
    "\n",
    "# scale_factor = 2\n",
    "\n",
    "# # Setup dataloaders\n",
    "# train_dataset = BSDS300(scale_factor=scale_factor)\n",
    "# val_dataset = Set14(scale_factor=scale_factor)\n",
    "# test_dataset = Set5(scale_factor=scale_factor)\n",
    "# train_dataloader = DataLoader(train_dataset, batch_size=32)\n",
    "# val_dataloader = DataLoader(val_dataset, batch_size=1)\n",
    "# test_dataloader = DataLoader(test_dataset, batch_size=1)\n",
    "\n",
    "# # Define model\n",
    "# channels = 3 if train_dataset.color_space == \"RGB\" else 1\n",
    "# model = VDSR(scale_factor, channels)\n",
    "# # model = SRResNet(scale_factor, channels)\n",
    "# module = Module(model)\n",
    "\n",
    "# trainer = pl.Trainer(max_epochs=60, gpus=4,accelerator='dp')\n",
    "# trainer.fit(\n",
    "#     module,\n",
    "#     train_dataloader,\n",
    "#     val_dataloader,\n",
    "# ) \n",
    "\n",
    "# trainer.test(module, test_dataloader)"
   ]
  },
  {
   "cell_type": "code",
   "execution_count": 153,
   "id": "67a7d8b0-58a8-4d98-bcb7-14f72db3b11a",
   "metadata": {},
   "outputs": [],
   "source": [
    "# module = module.cuda()"
   ]
  },
  {
   "cell_type": "code",
   "execution_count": 157,
   "id": "66a8bdc6-fe78-4145-b34a-b2ffbf102faa",
   "metadata": {},
   "outputs": [],
   "source": [
    "# for test_path in test_paths:\n",
    "#     img_np = cv2.imread(str(test_path))\n",
    "#     img_tensor=torch.Tensor(img_np[None,:].transpose(0,3,1,2)).to(module.device)\n",
    "#     img_tensor_big = module(img_tensor)\n",
    "#     fname_out = str(Path(str(test_path).replace('images','images_800')))\n",
    "#     cv2.imwrite(fname_out,img_tensor_big[0].detach().cpu().numpy().transpose(1,2,0))"
   ]
  },
  {
   "cell_type": "code",
   "execution_count": 163,
   "id": "0910a2c4-8adb-4c89-b98f-ff5b76582d68",
   "metadata": {},
   "outputs": [],
   "source": [
    "# for train_path in train_dataloader.dataset.img_files+val_dataloader.dataset.img_files:\n",
    "#     img_np = cv2.imread(str(train_path))\n",
    "#     img_tensor=torch.Tensor(img_np[None,:].transpose(0,3,1,2)).to(module.device)\n",
    "#     img_tensor_big = module(img_tensor)\n",
    "#     fname_out = str(Path(str(train_path).replace('images','images_800')))\n",
    "#     cv2.imwrite(fname_out,img_tensor_big[0].detach().cpu().numpy().transpose(1,2,0))"
   ]
  },
  {
   "cell_type": "code",
   "execution_count": 165,
   "id": "89183014-f18c-4fef-8f16-1deae2b692ca",
   "metadata": {},
   "outputs": [],
   "source": [
    "# for train_mask_path in train_dataloader.dataset.mask_files+val_dataloader.dataset.mask_files:\n",
    "#     img_np = cv2.imread(str(train_mask_path))\n",
    "#     img_np_big=cv2.resize(img_np, (800,800), interpolation=cv2.INTER_AREA)\n",
    "#     fname_out = str(Path(str(train_mask_path).replace('groundtruth','groundtruth_800')))\n",
    "#     cv2.imwrite(fname_out,img_np_big)"
   ]
  },
  {
   "cell_type": "code",
   "execution_count": null,
   "id": "814b8bf7-4b12-4daa-a39f-e6fb8d81d6d1",
   "metadata": {},
   "outputs": [],
   "source": []
  }
 ],
 "metadata": {
  "kernelspec": {
   "display_name": "Python 3 (ipykernel)",
   "language": "python",
   "name": "python3"
  },
  "language_info": {
   "codemirror_mode": {
    "name": "ipython",
    "version": 3
   },
   "file_extension": ".py",
   "mimetype": "text/x-python",
   "name": "python",
   "nbconvert_exporter": "python",
   "pygments_lexer": "ipython3",
   "version": "3.9.7"
  }
 },
 "nbformat": 4,
 "nbformat_minor": 5
}
